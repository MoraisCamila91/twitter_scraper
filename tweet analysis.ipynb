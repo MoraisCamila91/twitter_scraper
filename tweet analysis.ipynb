{
 "cells": [
  {
   "cell_type": "markdown",
   "id": "fa73c34b",
   "metadata": {
    "heading_collapsed": true,
    "jp-MarkdownHeadingCollapsed": true
   },
   "source": [
    "# Data Cleasing"
   ]
  },
  {
   "cell_type": "code",
   "execution_count": 1,
   "id": "4414588e",
   "metadata": {
    "hidden": true
   },
   "outputs": [],
   "source": [
    "import pandas as pd"
   ]
  },
  {
   "cell_type": "code",
   "execution_count": 2,
   "id": "7a63a218",
   "metadata": {
    "code_folding": [
     0
    ],
    "hidden": true
   },
   "outputs": [
    {
     "data": {
      "text/html": [
       "<div>\n",
       "<style scoped>\n",
       "    .dataframe tbody tr th:only-of-type {\n",
       "        vertical-align: middle;\n",
       "    }\n",
       "\n",
       "    .dataframe tbody tr th {\n",
       "        vertical-align: top;\n",
       "    }\n",
       "\n",
       "    .dataframe thead th {\n",
       "        text-align: right;\n",
       "    }\n",
       "</style>\n",
       "<table border=\"1\" class=\"dataframe\">\n",
       "  <thead>\n",
       "    <tr style=\"text-align: right;\">\n",
       "      <th></th>\n",
       "      <th>user_id</th>\n",
       "      <th>text</th>\n",
       "      <th>created_at</th>\n",
       "      <th>id</th>\n",
       "      <th>author_id</th>\n",
       "    </tr>\n",
       "  </thead>\n",
       "  <tbody>\n",
       "    <tr>\n",
       "      <th>0</th>\n",
       "      <td>75443682</td>\n",
       "      <td>Que tal uma Live surpresa hoje??\\nJá to prepar...</td>\n",
       "      <td>2020-10-30T21:36:47.000Z</td>\n",
       "      <td>1.322291e+18</td>\n",
       "      <td>75443682.0</td>\n",
       "    </tr>\n",
       "    <tr>\n",
       "      <th>1</th>\n",
       "      <td>75443682</td>\n",
       "      <td>Até que ainda pego umas ondinhas 😜😜😜 https://t...</td>\n",
       "      <td>2020-10-28T14:49:02.000Z</td>\n",
       "      <td>1.321464e+18</td>\n",
       "      <td>75443682.0</td>\n",
       "    </tr>\n",
       "    <tr>\n",
       "      <th>2</th>\n",
       "      <td>75443682</td>\n",
       "      <td>Acabou de publicar um vídeo https://t.co/yWTAo...</td>\n",
       "      <td>2020-10-28T00:06:32.000Z</td>\n",
       "      <td>1.321242e+18</td>\n",
       "      <td>75443682.0</td>\n",
       "    </tr>\n",
       "    <tr>\n",
       "      <th>3</th>\n",
       "      <td>75443682</td>\n",
       "      <td>Obrigado pela parceria @hyperprostrings e @lut...</td>\n",
       "      <td>2020-10-21T20:46:13.000Z</td>\n",
       "      <td>1.319017e+18</td>\n",
       "      <td>75443682.0</td>\n",
       "    </tr>\n",
       "    <tr>\n",
       "      <th>4</th>\n",
       "      <td>75443682</td>\n",
       "      <td>Hoje vou participar desse evento muito bacana,...</td>\n",
       "      <td>2020-10-18T19:46:16.000Z</td>\n",
       "      <td>1.317915e+18</td>\n",
       "      <td>75443682.0</td>\n",
       "    </tr>\n",
       "  </tbody>\n",
       "</table>\n",
       "</div>"
      ],
      "text/plain": [
       "    user_id                                               text  \\\n",
       "0  75443682  Que tal uma Live surpresa hoje??\\nJá to prepar...   \n",
       "1  75443682  Até que ainda pego umas ondinhas 😜😜😜 https://t...   \n",
       "2  75443682  Acabou de publicar um vídeo https://t.co/yWTAo...   \n",
       "3  75443682  Obrigado pela parceria @hyperprostrings e @lut...   \n",
       "4  75443682  Hoje vou participar desse evento muito bacana,...   \n",
       "\n",
       "                 created_at            id   author_id  \n",
       "0  2020-10-30T21:36:47.000Z  1.322291e+18  75443682.0  \n",
       "1  2020-10-28T14:49:02.000Z  1.321464e+18  75443682.0  \n",
       "2  2020-10-28T00:06:32.000Z  1.321242e+18  75443682.0  \n",
       "3  2020-10-21T20:46:13.000Z  1.319017e+18  75443682.0  \n",
       "4  2020-10-18T19:46:16.000Z  1.317915e+18  75443682.0  "
      ]
     },
     "execution_count": 2,
     "metadata": {},
     "output_type": "execute_result"
    }
   ],
   "source": [
    "# tweets\n",
    "\n",
    "tweets = pd.read_csv('user_tweets.csv')\n",
    "tweets.head()"
   ]
  },
  {
   "cell_type": "code",
   "execution_count": 3,
   "id": "965141c5-5d3a-4b4e-bc72-a3b7879b3715",
   "metadata": {},
   "outputs": [
    {
     "data": {
      "text/plain": [
       "17759"
      ]
     },
     "execution_count": 3,
     "metadata": {},
     "output_type": "execute_result"
    }
   ],
   "source": [
    "len(tweets)"
   ]
  },
  {
   "cell_type": "code",
   "execution_count": 4,
   "id": "715ee63c-cec0-4684-834b-112393ab19f5",
   "metadata": {},
   "outputs": [
    {
     "data": {
      "text/plain": [
       "6.975799481417459"
      ]
     },
     "execution_count": 4,
     "metadata": {},
     "output_type": "execute_result"
    }
   ],
   "source": [
    "tweets.text.count()/tweets.user_id.nunique()"
   ]
  },
  {
   "cell_type": "code",
   "execution_count": 5,
   "id": "ba1acb11",
   "metadata": {
    "code_folding": [
     0,
     2
    ],
    "hidden": true
   },
   "outputs": [
    {
     "data": {
      "text/html": [
       "<div>\n",
       "<style scoped>\n",
       "    .dataframe tbody tr th:only-of-type {\n",
       "        vertical-align: middle;\n",
       "    }\n",
       "\n",
       "    .dataframe tbody tr th {\n",
       "        vertical-align: top;\n",
       "    }\n",
       "\n",
       "    .dataframe thead th {\n",
       "        text-align: right;\n",
       "    }\n",
       "</style>\n",
       "<table border=\"1\" class=\"dataframe\">\n",
       "  <thead>\n",
       "    <tr style=\"text-align: right;\">\n",
       "      <th></th>\n",
       "      <th>id</th>\n",
       "      <th>idint</th>\n",
       "      <th>account_creation_date</th>\n",
       "      <th>random_number</th>\n",
       "      <th>followers_count</th>\n",
       "      <th>last_tweet_date</th>\n",
       "      <th>tweets_count</th>\n",
       "      <th>following_count</th>\n",
       "      <th>location</th>\n",
       "      <th>ideology_rate</th>\n",
       "    </tr>\n",
       "  </thead>\n",
       "  <tbody>\n",
       "    <tr>\n",
       "      <th>0</th>\n",
       "      <td>380142960</td>\n",
       "      <td>380142960</td>\n",
       "      <td>2011-09-26</td>\n",
       "      <td>0.689273</td>\n",
       "      <td>357</td>\n",
       "      <td>2020-12-30</td>\n",
       "      <td>16411</td>\n",
       "      <td>1392</td>\n",
       "      <td>Brasília</td>\n",
       "      <td>-0.290244</td>\n",
       "    </tr>\n",
       "    <tr>\n",
       "      <th>1</th>\n",
       "      <td>75443682</td>\n",
       "      <td>75443682</td>\n",
       "      <td>2009-09-19</td>\n",
       "      <td>0.766056</td>\n",
       "      <td>11786</td>\n",
       "      <td>2020-12-27</td>\n",
       "      <td>2103</td>\n",
       "      <td>314</td>\n",
       "      <td>Sao Paulo, Brazil</td>\n",
       "      <td>-0.366308</td>\n",
       "    </tr>\n",
       "    <tr>\n",
       "      <th>2</th>\n",
       "      <td>2352591280</td>\n",
       "      <td>2352591280</td>\n",
       "      <td>2014-02-19</td>\n",
       "      <td>0.126123</td>\n",
       "      <td>30</td>\n",
       "      <td>2020-12-29</td>\n",
       "      <td>270</td>\n",
       "      <td>239</td>\n",
       "      <td>Fortaleza, Brasil</td>\n",
       "      <td>1.381745</td>\n",
       "    </tr>\n",
       "    <tr>\n",
       "      <th>3</th>\n",
       "      <td>438465718</td>\n",
       "      <td>438465718</td>\n",
       "      <td>2011-12-16</td>\n",
       "      <td>0.795829</td>\n",
       "      <td>1758</td>\n",
       "      <td>2020-12-30</td>\n",
       "      <td>22199</td>\n",
       "      <td>1079</td>\n",
       "      <td>Belo Horizonte, Brasil</td>\n",
       "      <td>-0.252403</td>\n",
       "    </tr>\n",
       "    <tr>\n",
       "      <th>4</th>\n",
       "      <td>178400601</td>\n",
       "      <td>178400601</td>\n",
       "      <td>2010-08-14</td>\n",
       "      <td>0.667397</td>\n",
       "      <td>97</td>\n",
       "      <td>2020-12-27</td>\n",
       "      <td>1827</td>\n",
       "      <td>362</td>\n",
       "      <td>Brasília, Brasil</td>\n",
       "      <td>-0.301110</td>\n",
       "    </tr>\n",
       "  </tbody>\n",
       "</table>\n",
       "</div>"
      ],
      "text/plain": [
       "           id       idint account_creation_date  random_number  \\\n",
       "0   380142960   380142960            2011-09-26       0.689273   \n",
       "1    75443682    75443682            2009-09-19       0.766056   \n",
       "2  2352591280  2352591280            2014-02-19       0.126123   \n",
       "3   438465718   438465718            2011-12-16       0.795829   \n",
       "4   178400601   178400601            2010-08-14       0.667397   \n",
       "\n",
       "   followers_count last_tweet_date  tweets_count  following_count  \\\n",
       "0              357      2020-12-30         16411             1392   \n",
       "1            11786      2020-12-27          2103              314   \n",
       "2               30      2020-12-29           270              239   \n",
       "3             1758      2020-12-30         22199             1079   \n",
       "4               97      2020-12-27          1827              362   \n",
       "\n",
       "                 location  ideology_rate  \n",
       "0                Brasília      -0.290244  \n",
       "1       Sao Paulo, Brazil      -0.366308  \n",
       "2       Fortaleza, Brasil       1.381745  \n",
       "3  Belo Horizonte, Brasil      -0.252403  \n",
       "4        Brasília, Brasil      -0.301110  "
      ]
     },
     "execution_count": 5,
     "metadata": {},
     "output_type": "execute_result"
    }
   ],
   "source": [
    "# user classifications\n",
    "\n",
    "classificacoes = pd.read_csv('../AWS/users_ideology.csv'\n",
    "                            ).drop(columns=['Unnamed: 0'])\n",
    "\n",
    "classificacoes.rename({'calculated.ideology.theta': 'ideology_rate',\n",
    "                       'created_at_or_timestamp': 'account_creation_date',\n",
    "                       'last_tweet': 'last_tweet_date',\n",
    "                       'statuses_or_tweets': 'tweets_count',\n",
    "                       'followers': 'followers_count',\n",
    "                       }, axis=1, inplace=True)\n",
    "\n",
    "classificacoes.head()"
   ]
  },
  {
   "cell_type": "code",
   "execution_count": 6,
   "id": "5dd6c801",
   "metadata": {
    "code_folding": [
     0
    ],
    "hidden": true,
    "scrolled": true
   },
   "outputs": [
    {
     "data": {
      "text/html": [
       "<div>\n",
       "<style scoped>\n",
       "    .dataframe tbody tr th:only-of-type {\n",
       "        vertical-align: middle;\n",
       "    }\n",
       "\n",
       "    .dataframe tbody tr th {\n",
       "        vertical-align: top;\n",
       "    }\n",
       "\n",
       "    .dataframe thead th {\n",
       "        text-align: right;\n",
       "    }\n",
       "</style>\n",
       "<table border=\"1\" class=\"dataframe\">\n",
       "  <thead>\n",
       "    <tr style=\"text-align: right;\">\n",
       "      <th></th>\n",
       "      <th>user_id</th>\n",
       "      <th>text</th>\n",
       "      <th>created_at</th>\n",
       "      <th>id</th>\n",
       "      <th>ideology_rate</th>\n",
       "      <th>account_creation_date</th>\n",
       "      <th>last_tweet_date</th>\n",
       "      <th>tweets_count</th>\n",
       "      <th>followers_count</th>\n",
       "      <th>following_count</th>\n",
       "      <th>location</th>\n",
       "    </tr>\n",
       "  </thead>\n",
       "  <tbody>\n",
       "    <tr>\n",
       "      <th>0</th>\n",
       "      <td>75443682</td>\n",
       "      <td>Que tal uma Live surpresa hoje??\\nJá to prepar...</td>\n",
       "      <td>2020-10-30T21:36:47.000Z</td>\n",
       "      <td>75443682</td>\n",
       "      <td>-0.366308</td>\n",
       "      <td>2009-09-19</td>\n",
       "      <td>2020-12-27</td>\n",
       "      <td>2103</td>\n",
       "      <td>11786</td>\n",
       "      <td>314</td>\n",
       "      <td>Sao Paulo, Brazil</td>\n",
       "    </tr>\n",
       "    <tr>\n",
       "      <th>1</th>\n",
       "      <td>75443682</td>\n",
       "      <td>Até que ainda pego umas ondinhas 😜😜😜 https://t...</td>\n",
       "      <td>2020-10-28T14:49:02.000Z</td>\n",
       "      <td>75443682</td>\n",
       "      <td>-0.366308</td>\n",
       "      <td>2009-09-19</td>\n",
       "      <td>2020-12-27</td>\n",
       "      <td>2103</td>\n",
       "      <td>11786</td>\n",
       "      <td>314</td>\n",
       "      <td>Sao Paulo, Brazil</td>\n",
       "    </tr>\n",
       "    <tr>\n",
       "      <th>2</th>\n",
       "      <td>75443682</td>\n",
       "      <td>Acabou de publicar um vídeo https://t.co/yWTAo...</td>\n",
       "      <td>2020-10-28T00:06:32.000Z</td>\n",
       "      <td>75443682</td>\n",
       "      <td>-0.366308</td>\n",
       "      <td>2009-09-19</td>\n",
       "      <td>2020-12-27</td>\n",
       "      <td>2103</td>\n",
       "      <td>11786</td>\n",
       "      <td>314</td>\n",
       "      <td>Sao Paulo, Brazil</td>\n",
       "    </tr>\n",
       "    <tr>\n",
       "      <th>3</th>\n",
       "      <td>75443682</td>\n",
       "      <td>Obrigado pela parceria @hyperprostrings e @lut...</td>\n",
       "      <td>2020-10-21T20:46:13.000Z</td>\n",
       "      <td>75443682</td>\n",
       "      <td>-0.366308</td>\n",
       "      <td>2009-09-19</td>\n",
       "      <td>2020-12-27</td>\n",
       "      <td>2103</td>\n",
       "      <td>11786</td>\n",
       "      <td>314</td>\n",
       "      <td>Sao Paulo, Brazil</td>\n",
       "    </tr>\n",
       "    <tr>\n",
       "      <th>4</th>\n",
       "      <td>75443682</td>\n",
       "      <td>Hoje vou participar desse evento muito bacana,...</td>\n",
       "      <td>2020-10-18T19:46:16.000Z</td>\n",
       "      <td>75443682</td>\n",
       "      <td>-0.366308</td>\n",
       "      <td>2009-09-19</td>\n",
       "      <td>2020-12-27</td>\n",
       "      <td>2103</td>\n",
       "      <td>11786</td>\n",
       "      <td>314</td>\n",
       "      <td>Sao Paulo, Brazil</td>\n",
       "    </tr>\n",
       "  </tbody>\n",
       "</table>\n",
       "</div>"
      ],
      "text/plain": [
       "    user_id                                               text  \\\n",
       "0  75443682  Que tal uma Live surpresa hoje??\\nJá to prepar...   \n",
       "1  75443682  Até que ainda pego umas ondinhas 😜😜😜 https://t...   \n",
       "2  75443682  Acabou de publicar um vídeo https://t.co/yWTAo...   \n",
       "3  75443682  Obrigado pela parceria @hyperprostrings e @lut...   \n",
       "4  75443682  Hoje vou participar desse evento muito bacana,...   \n",
       "\n",
       "                 created_at        id  ideology_rate account_creation_date  \\\n",
       "0  2020-10-30T21:36:47.000Z  75443682      -0.366308            2009-09-19   \n",
       "1  2020-10-28T14:49:02.000Z  75443682      -0.366308            2009-09-19   \n",
       "2  2020-10-28T00:06:32.000Z  75443682      -0.366308            2009-09-19   \n",
       "3  2020-10-21T20:46:13.000Z  75443682      -0.366308            2009-09-19   \n",
       "4  2020-10-18T19:46:16.000Z  75443682      -0.366308            2009-09-19   \n",
       "\n",
       "  last_tweet_date  tweets_count  followers_count  following_count  \\\n",
       "0      2020-12-27          2103            11786              314   \n",
       "1      2020-12-27          2103            11786              314   \n",
       "2      2020-12-27          2103            11786              314   \n",
       "3      2020-12-27          2103            11786              314   \n",
       "4      2020-12-27          2103            11786              314   \n",
       "\n",
       "            location  \n",
       "0  Sao Paulo, Brazil  \n",
       "1  Sao Paulo, Brazil  \n",
       "2  Sao Paulo, Brazil  \n",
       "3  Sao Paulo, Brazil  \n",
       "4  Sao Paulo, Brazil  "
      ]
     },
     "execution_count": 6,
     "metadata": {},
     "output_type": "execute_result"
    }
   ],
   "source": [
    "# df analysis\n",
    "\n",
    "tweets_cols = ['user_id', 'text', 'created_at']\n",
    "classif_cols = ['id', 'ideology_rate',\n",
    "                'account_creation_date', \n",
    "                'last_tweet_date', 'tweets_count', \n",
    "                'followers_count', 'following_count',\n",
    "                'location']\n",
    "\n",
    "df = tweets[tweets_cols].merge(\n",
    "    classificacoes[classif_cols],\n",
    "    how='inner',\n",
    "    left_on='user_id',\n",
    "    right_on='id').dropna()\n",
    "\n",
    "df.head()"
   ]
  },
  {
   "cell_type": "code",
   "execution_count": 7,
   "id": "e747325e",
   "metadata": {},
   "outputs": [
    {
     "data": {
      "text/plain": [
       "2314"
      ]
     },
     "execution_count": 7,
     "metadata": {},
     "output_type": "execute_result"
    }
   ],
   "source": [
    "# # users\n",
    "\n",
    "tweets.user_id.nunique()"
   ]
  },
  {
   "cell_type": "code",
   "execution_count": 8,
   "id": "bb660892",
   "metadata": {},
   "outputs": [
    {
     "data": {
      "text/plain": [
       "15750"
      ]
     },
     "execution_count": 8,
     "metadata": {},
     "output_type": "execute_result"
    }
   ],
   "source": [
    "# # tweets\n",
    "\n",
    "tweets.text.nunique()"
   ]
  },
  {
   "cell_type": "code",
   "execution_count": 9,
   "id": "8a340d39",
   "metadata": {
    "code_folding": []
   },
   "outputs": [],
   "source": [
    "# Para fins APENAS de teste - comentar depois\n",
    "\n",
    "# df = df.head(10)"
   ]
  },
  {
   "cell_type": "code",
   "execution_count": 10,
   "id": "e24ebe93",
   "metadata": {},
   "outputs": [
    {
     "data": {
      "text/html": [
       "<div>\n",
       "<style scoped>\n",
       "    .dataframe tbody tr th:only-of-type {\n",
       "        vertical-align: middle;\n",
       "    }\n",
       "\n",
       "    .dataframe tbody tr th {\n",
       "        vertical-align: top;\n",
       "    }\n",
       "\n",
       "    .dataframe thead th {\n",
       "        text-align: right;\n",
       "    }\n",
       "</style>\n",
       "<table border=\"1\" class=\"dataframe\">\n",
       "  <thead>\n",
       "    <tr style=\"text-align: right;\">\n",
       "      <th></th>\n",
       "      <th>user_id</th>\n",
       "      <th>text</th>\n",
       "      <th>created_at</th>\n",
       "      <th>id</th>\n",
       "      <th>ideology_rate</th>\n",
       "      <th>account_creation_date</th>\n",
       "      <th>last_tweet_date</th>\n",
       "      <th>tweets_count</th>\n",
       "      <th>followers_count</th>\n",
       "      <th>following_count</th>\n",
       "      <th>location</th>\n",
       "    </tr>\n",
       "  </thead>\n",
       "  <tbody>\n",
       "    <tr>\n",
       "      <th>0</th>\n",
       "      <td>75443682</td>\n",
       "      <td>Que tal uma Live surpresa hoje??\\nJá to prepar...</td>\n",
       "      <td>2020-10-30T21:36:47.000Z</td>\n",
       "      <td>75443682</td>\n",
       "      <td>-0.366308</td>\n",
       "      <td>2009-09-19</td>\n",
       "      <td>2020-12-27</td>\n",
       "      <td>2103</td>\n",
       "      <td>11786</td>\n",
       "      <td>314</td>\n",
       "      <td>Sao Paulo, Brazil</td>\n",
       "    </tr>\n",
       "    <tr>\n",
       "      <th>1</th>\n",
       "      <td>75443682</td>\n",
       "      <td>Até que ainda pego umas ondinhas 😜😜😜 https://t...</td>\n",
       "      <td>2020-10-28T14:49:02.000Z</td>\n",
       "      <td>75443682</td>\n",
       "      <td>-0.366308</td>\n",
       "      <td>2009-09-19</td>\n",
       "      <td>2020-12-27</td>\n",
       "      <td>2103</td>\n",
       "      <td>11786</td>\n",
       "      <td>314</td>\n",
       "      <td>Sao Paulo, Brazil</td>\n",
       "    </tr>\n",
       "    <tr>\n",
       "      <th>2</th>\n",
       "      <td>75443682</td>\n",
       "      <td>Acabou de publicar um vídeo https://t.co/yWTAo...</td>\n",
       "      <td>2020-10-28T00:06:32.000Z</td>\n",
       "      <td>75443682</td>\n",
       "      <td>-0.366308</td>\n",
       "      <td>2009-09-19</td>\n",
       "      <td>2020-12-27</td>\n",
       "      <td>2103</td>\n",
       "      <td>11786</td>\n",
       "      <td>314</td>\n",
       "      <td>Sao Paulo, Brazil</td>\n",
       "    </tr>\n",
       "    <tr>\n",
       "      <th>3</th>\n",
       "      <td>75443682</td>\n",
       "      <td>Obrigado pela parceria @hyperprostrings e @lut...</td>\n",
       "      <td>2020-10-21T20:46:13.000Z</td>\n",
       "      <td>75443682</td>\n",
       "      <td>-0.366308</td>\n",
       "      <td>2009-09-19</td>\n",
       "      <td>2020-12-27</td>\n",
       "      <td>2103</td>\n",
       "      <td>11786</td>\n",
       "      <td>314</td>\n",
       "      <td>Sao Paulo, Brazil</td>\n",
       "    </tr>\n",
       "    <tr>\n",
       "      <th>4</th>\n",
       "      <td>75443682</td>\n",
       "      <td>Hoje vou participar desse evento muito bacana,...</td>\n",
       "      <td>2020-10-18T19:46:16.000Z</td>\n",
       "      <td>75443682</td>\n",
       "      <td>-0.366308</td>\n",
       "      <td>2009-09-19</td>\n",
       "      <td>2020-12-27</td>\n",
       "      <td>2103</td>\n",
       "      <td>11786</td>\n",
       "      <td>314</td>\n",
       "      <td>Sao Paulo, Brazil</td>\n",
       "    </tr>\n",
       "  </tbody>\n",
       "</table>\n",
       "</div>"
      ],
      "text/plain": [
       "    user_id                                               text  \\\n",
       "0  75443682  Que tal uma Live surpresa hoje??\\nJá to prepar...   \n",
       "1  75443682  Até que ainda pego umas ondinhas 😜😜😜 https://t...   \n",
       "2  75443682  Acabou de publicar um vídeo https://t.co/yWTAo...   \n",
       "3  75443682  Obrigado pela parceria @hyperprostrings e @lut...   \n",
       "4  75443682  Hoje vou participar desse evento muito bacana,...   \n",
       "\n",
       "                 created_at        id  ideology_rate account_creation_date  \\\n",
       "0  2020-10-30T21:36:47.000Z  75443682      -0.366308            2009-09-19   \n",
       "1  2020-10-28T14:49:02.000Z  75443682      -0.366308            2009-09-19   \n",
       "2  2020-10-28T00:06:32.000Z  75443682      -0.366308            2009-09-19   \n",
       "3  2020-10-21T20:46:13.000Z  75443682      -0.366308            2009-09-19   \n",
       "4  2020-10-18T19:46:16.000Z  75443682      -0.366308            2009-09-19   \n",
       "\n",
       "  last_tweet_date  tweets_count  followers_count  following_count  \\\n",
       "0      2020-12-27          2103            11786              314   \n",
       "1      2020-12-27          2103            11786              314   \n",
       "2      2020-12-27          2103            11786              314   \n",
       "3      2020-12-27          2103            11786              314   \n",
       "4      2020-12-27          2103            11786              314   \n",
       "\n",
       "            location  \n",
       "0  Sao Paulo, Brazil  \n",
       "1  Sao Paulo, Brazil  \n",
       "2  Sao Paulo, Brazil  \n",
       "3  Sao Paulo, Brazil  \n",
       "4  Sao Paulo, Brazil  "
      ]
     },
     "execution_count": 10,
     "metadata": {},
     "output_type": "execute_result"
    }
   ],
   "source": [
    "df.head()"
   ]
  },
  {
   "cell_type": "markdown",
   "id": "13823da4",
   "metadata": {},
   "source": [
    "# ideias genericas"
   ]
  },
  {
   "cell_type": "markdown",
   "id": "ba7a3be8-7855-4598-a5fa-cf9441402984",
   "metadata": {
    "jp-MarkdownHeadingCollapsed": true
   },
   "source": [
    "## Classificacao Guerras Culturais, Resumo do Tweet, Sentimentos, Emoji"
   ]
  },
  {
   "cell_type": "code",
   "execution_count": 10,
   "id": "6ce4eb20",
   "metadata": {
    "code_folding": []
   },
   "outputs": [],
   "source": [
    "# OpenAI setup\n",
    "from openai import OpenAI\n",
    "\n",
    "# Point to the local server\n",
    "client = OpenAI(base_url=\"http://localhost:1234/v1\", api_key=\"lm-studio\")"
   ]
  },
  {
   "cell_type": "markdown",
   "id": "fb1ef954",
   "metadata": {},
   "source": [
    "##### Classificacao de assunto:\n",
    "\n",
    "a. guerra cultural - sim ou nao\n",
    "\n",
    "b. assunto principal (\"resumo\") do tweet"
   ]
  },
  {
   "cell_type": "code",
   "execution_count": 12,
   "id": "9f92badf",
   "metadata": {
    "code_folding": [
     0
    ]
   },
   "outputs": [
    {
     "name": "stdout",
     "output_type": "stream",
     "text": [
      "\n",
      "Sim | ['áreas protegidas', 'Meio Ambiente', 'defesa do meio ambiente']\n"
     ]
    }
   ],
   "source": [
    "# Teste classificacao LLama2 - guerras culturais\n",
    "\n",
    "completion = client.chat.completions.create(\n",
    "  model=\"TheBloke/Llama-2-13B-chat-GGUF/llama-2-13b-chat.Q2_K.gguf\",\n",
    "  messages=[\n",
    "    {\"role\": \"system\", \"content\": \"\"\"Você é um analista de conteúdo do Twitter e as mensagens que você \n",
    "    recebe são tweets. Sua missão é dizer se o conteúdo do tweet tem alguma referência às guerras culturais \n",
    "    (sim ou não) e resumir o assunto principal do tweet recebido em no máximo 3 classificações.\n",
    "    \n",
    "    Sua resposta deve ser relativa a mensagem que receber do usuário.\n",
    "    \n",
    "    O formato da sua resposta é crucial. Tem o formato de tabela, \n",
    "    contendo exatamente duas colunas: a primeira é se há referência às \n",
    "    guerras culturais (sim ou não) e a segunda deve ser uma lista com as classificações de assunto possíveis.\n",
    "    \n",
    "    Exemplo de mensagem recebida: 'O aborto deveria ser proibido'\n",
    "    Sua resposta esperada: sim | ['aborto', 'direitos da mulher']\n",
    "    \n",
    "    Exemplo de mensagem recebida: 'O flamengo passou vergonha hoje kkkkk'\n",
    "    Sua resposta esperada: não | ['futebol', 'Flamengo']\n",
    "    \n",
    "    Exemplo de mensagem recebida: 'Parabéns @PRFBrasil orgulho 🇧🇷🇧🇷 https://t.co/P3H4KPU97T'\n",
    "    Sua resposta esperada: sim | ['nacionalismo']\n",
    "    \"\"\"},\n",
    "    {\"role\": \"user\", \n",
    "     \"content\": \"\"\"'Hoje vou participar desse evento muito bacana, em defesa das áreas protegidas do Brasil. 🙏❤️🎼\n",
    "     \\nVai passar no https://t.co/8gKZIK10gV https://t.co/PP1eBL01PA'\"\"\"}\n",
    "  ],\n",
    "  temperature=0.7,\n",
    ")\n",
    "\n",
    "print(completion.choices[0].message.content)"
   ]
  },
  {
   "cell_type": "code",
   "execution_count": 13,
   "id": "7a09a59d",
   "metadata": {
    "code_folding": [
     0
    ]
   },
   "outputs": [
    {
     "name": "stdout",
     "output_type": "stream",
     "text": [
      "\n",
      "Sim | ['áreas protegidas', 'meio ambiente', 'defesa do meio ambiente']\n"
     ]
    }
   ],
   "source": [
    "# Teste classificacao LLama2 - guerras culturais\n",
    "\n",
    "completion = client.chat.completions.create(\n",
    "  model=\"TheBloke/Llama-2-13B-chat-GGUF/llama-2-13b-chat.Q2_K.gguf\",\n",
    "  messages=[\n",
    "    {\"role\": \"system\", \"content\": \"\"\"Você é um analista de conteúdo do Twitter e as mensagens que você \n",
    "    recebe são tweets. Sua missão é dizer se o conteúdo do tweet tem alguma referência às guerras culturais \n",
    "    (sim ou não) e resumir o assunto principal do tweet recebido em no máximo 3 classificações.\n",
    "    \n",
    "    Sua resposta deve ser relativa a mensagem que receber do usuário.\n",
    "    \n",
    "    O formato da sua resposta é crucial. Tem o formato de tabela, \n",
    "    contendo exatamente duas colunas: a primeira é se há referência às \n",
    "    guerras culturais (sim ou não) e a segunda deve ser uma lista com as classificações de assunto possíveis.\n",
    "    \n",
    "    Exemplo de mensagem recebida: 'O aborto deveria ser proibido'\n",
    "    Sua resposta esperada: sim | ['aborto', 'direitos da mulher']\n",
    "    \n",
    "    Exemplo de mensagem recebida: 'O flamengo passou vergonha hoje kkkkk'\n",
    "    Sua resposta esperada: não | ['futebol', 'Flamengo']\n",
    "    \n",
    "    Exemplo de mensagem recebida: 'Parabéns @PRFBrasil orgulho 🇧🇷🇧🇷 https://t.co/P3H4KPU97T'\n",
    "    Sua resposta esperada: sim | ['nacionalismo']\n",
    "    \"\"\"},\n",
    "    {\"role\": \"user\", \n",
    "     \"content\": \"\"\"'Hoje vou participar desse evento muito bacana, em defesa das áreas protegidas do Brasil. 🙏❤️🎼\n",
    "     \\nVai passar no https://t.co/8gKZIK10gV https://t.co/PP1eBL01PA'\"\"\"}\n",
    "  ],\n",
    "  temperature=0.2,\n",
    ")\n",
    "\n",
    "print(completion.choices[0].message.content)"
   ]
  },
  {
   "cell_type": "code",
   "execution_count": 14,
   "id": "9c7e588e",
   "metadata": {
    "code_folding": [
     0
    ]
   },
   "outputs": [],
   "source": [
    "# Classificacao Llama2 - guerras culturais - definicao [llm_classification(tweet)]\n",
    "\n",
    "def llm_classification(tweet):\n",
    "    completion = client.chat.completions.create(\n",
    "      model=\"TheBloke/Llama-2-13B-chat-GGUF/llama-2-13b-chat.Q2_K.gguf\",\n",
    "      messages=[\n",
    "        {\"role\": \"system\", \"content\": \"\"\"Você é um analista de conteúdo do Twitter e as mensagens que você \n",
    "        recebe são tweets. Sua missão é dizer se o conteúdo do tweet tem alguma referência às guerras culturais \n",
    "        (sim ou não) e resumir o assunto principal do tweet recebido em no máximo 3 classificações.\n",
    "        \n",
    "        Guerras culturais são conflitos sociais e políticos que envolvem questões de identidade, valores e \n",
    "        crenças culturais. Esses conflitos geralmente surgem em torno de temas como religião, etnia, gênero, \n",
    "        sexualidade, política, e outras formas de expressão cultural. Tópicos comumente associados a guerras \n",
    "        culturais incluem aborto, casamento entre pessoas do mesmo sexo, direitos das minorias, políticas de \n",
    "        identidade, imigração, liberdade de expressão, e representação na mídia e na cultura popular. \n",
    "\n",
    "        Sua resposta deve ser relativa a cada mensagem que receber do usuário, que representa um único tweet. \n",
    "        As mensagens não são relacionadas entre si.\n",
    "        Diga \"não sei | []\" se não souber.\n",
    "        Responda sempre no formato de tabela e não por extenso.\n",
    "\n",
    "        O formato da sua resposta é crucial. Tem o formato de tabela, \n",
    "        contendo exatamente duas colunas: a primeira é se há referência às \n",
    "        guerras culturais (sim ou não) e a segunda deve ser uma lista com as classificações de assunto possíveis.\n",
    "\n",
    "        Exemplo de mensagem recebida: 'O aborto deveria ser proibido'\n",
    "        Sua resposta esperada: sim | ['aborto', 'direitos da mulher']\n",
    "\n",
    "        Exemplo de mensagem recebida: 'O flamengo passou vergonha hoje kkkkk'\n",
    "        Sua resposta esperada: não | ['futebol', 'Flamengo']\n",
    "\n",
    "        Exemplo de mensagem recebida: 'Até que ainda pego umas ondinhas 😜😜😜'\n",
    "        Sua resposta esperada: não | ['surf']\n",
    "\n",
    "        Exemplo de mensagem recebida: 'Acabou de publicar uma foto https://t.co/D4WFN'\n",
    "        Sua resposta esperada: não sei | ['link']\n",
    "\n",
    "        Exemplo de mensagem recebida: 'Parabéns @PRFBrasil orgulho 🇧🇷🇧🇷 https://t.co/P3H4KPU97T'\n",
    "        Sua resposta esperada: sim | ['nacionalismo']\n",
    "        \"\"\"},\n",
    "        {\"role\": \"user\", \n",
    "         \"content\": tweet}\n",
    "      ],\n",
    "      temperature=0.9,\n",
    "    )\n",
    "\n",
    "    return completion.choices[0].message.content"
   ]
  },
  {
   "cell_type": "code",
   "execution_count": 15,
   "id": "1e03909a",
   "metadata": {
    "code_folding": []
   },
   "outputs": [],
   "source": [
    "# Classificacao Llama2 - guerras culturais - call\n",
    "\n",
    "# df['culture_wars'] = df['text'].apply(lambda x: llm_classification(x))"
   ]
  },
  {
   "cell_type": "code",
   "execution_count": 16,
   "id": "5291de90-d818-4e1c-829b-694a02d53724",
   "metadata": {},
   "outputs": [],
   "source": [
    "# df.to_csv('first_batch_classificacao_culture_wars.csv')"
   ]
  },
  {
   "cell_type": "code",
   "execution_count": 18,
   "id": "82d63926",
   "metadata": {},
   "outputs": [],
   "source": [
    "# Analise de sentimento\n",
    "\n",
    "def llm_emotion(tweet):\n",
    "    completion = client.chat.completions.create(\n",
    "      model=\"TheBloke/Llama-2-13B-chat-GGUF/llama-2-13b-chat.Q2_K.gguf\",\n",
    "      messages=[\n",
    "        {\"role\": \"system\", \"content\": \"\"\"Você é um analista de sentimento de tweets e as mensagens que você \n",
    "        recebe são tweets. Sua missão é dizer se o conteúdo do tweet tem uma conotação positiva ou negativa.\n",
    "        \n",
    "        Sua resposta deve ser relativa a cada mensagem que receber do usuário, que representa um único tweet. \n",
    "        As mensagens não são relacionadas entre si.\n",
    "        Diga \"não sei\" se não souber.\n",
    "        Responda sempre com \"positivo\", \"negativo\", \"neutro\" ou \"não sei\" e não adicione nenhuma outra informação.\n",
    "        O formato da sua resposta é crucial.\n",
    "\n",
    "        Exemplo de mensagem recebida: 'O flamengo passou vergonha hoje kkkkk'\n",
    "        Sua resposta esperada: negativo\n",
    "\n",
    "        Exemplo de mensagem recebida: 'Até que ainda pego umas ondinhas 😜😜😜'\n",
    "        Sua resposta esperada: positivo\n",
    "\n",
    "        Exemplo de mensagem recebida: 'Acabou de publicar uma foto https://t.co/D4WFN'\n",
    "        Sua resposta esperada: não sei\n",
    "\n",
    "        Exemplo de mensagem recebida: 'Parabéns @PRFBrasil orgulho 🇧🇷🇧🇷 https://t.co/P3H4KPU97T'\n",
    "        Sua resposta esperada: positivo\n",
    "        \"\"\"},\n",
    "        {\"role\": \"user\", \n",
    "         \"content\": tweet}\n",
    "      ],\n",
    "      temperature=0.9,\n",
    "    )\n",
    "\n",
    "    return completion.choices[0].message.content"
   ]
  },
  {
   "cell_type": "code",
   "execution_count": 19,
   "id": "352df56b-7639-4d50-9136-2312c7acf8e5",
   "metadata": {},
   "outputs": [],
   "source": [
    "# df['sentiment_analysis'] = df['text'].apply(llm_emotion)"
   ]
  },
  {
   "cell_type": "code",
   "execution_count": 21,
   "id": "7550ec40-a2ec-4369-93b3-86ae72e9e192",
   "metadata": {},
   "outputs": [],
   "source": [
    "# df.to_csv('df_sentiment.csv')"
   ]
  },
  {
   "cell_type": "code",
   "execution_count": 12,
   "id": "82b062a3",
   "metadata": {},
   "outputs": [],
   "source": [
    "# Extracao de emoji\n",
    "import emojis\n",
    "\n",
    "def extract_emojis(tweet):\n",
    "    return set(emojis.get(tweet))\n",
    "\n",
    "# df['emojis'] = df['text'].apply(extract_emojis)"
   ]
  },
  {
   "cell_type": "code",
   "execution_count": 16,
   "id": "dbde1209-403f-4723-8ac0-d430823090a5",
   "metadata": {},
   "outputs": [],
   "source": [
    "# df.to_csv('df_emoji.csv')"
   ]
  },
  {
   "cell_type": "markdown",
   "id": "25a1c005-54bf-4eb7-a948-cb1ec91132f9",
   "metadata": {},
   "source": [
    "## Classificacao Guerras Culturais, Resumo do Tweet, Sentimentos, Emoji: Análise"
   ]
  },
  {
   "cell_type": "code",
   "execution_count": 25,
   "id": "8f7726be-ff32-4bf5-b1f7-874b12b2f18a",
   "metadata": {},
   "outputs": [
    {
     "data": {
      "text/html": [
       "<div>\n",
       "<style scoped>\n",
       "    .dataframe tbody tr th:only-of-type {\n",
       "        vertical-align: middle;\n",
       "    }\n",
       "\n",
       "    .dataframe tbody tr th {\n",
       "        vertical-align: top;\n",
       "    }\n",
       "\n",
       "    .dataframe thead th {\n",
       "        text-align: right;\n",
       "    }\n",
       "</style>\n",
       "<table border=\"1\" class=\"dataframe\">\n",
       "  <thead>\n",
       "    <tr style=\"text-align: right;\">\n",
       "      <th></th>\n",
       "      <th>user_id</th>\n",
       "      <th>text</th>\n",
       "      <th>created_at</th>\n",
       "      <th>id</th>\n",
       "      <th>ideology_rate</th>\n",
       "      <th>account_creation_date</th>\n",
       "      <th>last_tweet_date</th>\n",
       "      <th>tweets_count</th>\n",
       "      <th>followers_count</th>\n",
       "      <th>following_count</th>\n",
       "      <th>location</th>\n",
       "      <th>culture_wars</th>\n",
       "      <th>sentiment_analysis</th>\n",
       "      <th>emojis</th>\n",
       "    </tr>\n",
       "  </thead>\n",
       "  <tbody>\n",
       "    <tr>\n",
       "      <th>0</th>\n",
       "      <td>75443682</td>\n",
       "      <td>Que tal uma Live surpresa hoje??\\nJá to prepar...</td>\n",
       "      <td>2020-10-30T21:36:47.000Z</td>\n",
       "      <td>75443682</td>\n",
       "      <td>-0.366308</td>\n",
       "      <td>2009-09-19</td>\n",
       "      <td>2020-12-27</td>\n",
       "      <td>2103</td>\n",
       "      <td>11786</td>\n",
       "      <td>314</td>\n",
       "      <td>Sao Paulo, Brazil</td>\n",
       "      <td>\\nNão | [musica, live]</td>\n",
       "      <td>Positivo.</td>\n",
       "      <td>{'🕺', '🎼', '😉', '❤️'}</td>\n",
       "    </tr>\n",
       "    <tr>\n",
       "      <th>1</th>\n",
       "      <td>75443682</td>\n",
       "      <td>Até que ainda pego umas ondinhas 😜😜😜 https://t...</td>\n",
       "      <td>2020-10-28T14:49:02.000Z</td>\n",
       "      <td>75443682</td>\n",
       "      <td>-0.366308</td>\n",
       "      <td>2009-09-19</td>\n",
       "      <td>2020-12-27</td>\n",
       "      <td>2103</td>\n",
       "      <td>11786</td>\n",
       "      <td>314</td>\n",
       "      <td>Sao Paulo, Brazil</td>\n",
       "      <td>Não | [surf]</td>\n",
       "      <td>Positivo</td>\n",
       "      <td>{'😜'}</td>\n",
       "    </tr>\n",
       "    <tr>\n",
       "      <th>2</th>\n",
       "      <td>75443682</td>\n",
       "      <td>Acabou de publicar um vídeo https://t.co/yWTAo...</td>\n",
       "      <td>2020-10-28T00:06:32.000Z</td>\n",
       "      <td>75443682</td>\n",
       "      <td>-0.366308</td>\n",
       "      <td>2009-09-19</td>\n",
       "      <td>2020-12-27</td>\n",
       "      <td>2103</td>\n",
       "      <td>11786</td>\n",
       "      <td>314</td>\n",
       "      <td>Sao Paulo, Brazil</td>\n",
       "      <td>Não | [link]</td>\n",
       "      <td>Não sei</td>\n",
       "      <td>set()</td>\n",
       "    </tr>\n",
       "    <tr>\n",
       "      <th>3</th>\n",
       "      <td>75443682</td>\n",
       "      <td>Obrigado pela parceria @hyperprostrings e @lut...</td>\n",
       "      <td>2020-10-21T20:46:13.000Z</td>\n",
       "      <td>75443682</td>\n",
       "      <td>-0.366308</td>\n",
       "      <td>2009-09-19</td>\n",
       "      <td>2020-12-27</td>\n",
       "      <td>2103</td>\n",
       "      <td>11786</td>\n",
       "      <td>314</td>\n",
       "      <td>Sao Paulo, Brazil</td>\n",
       "      <td>\\nNão | [link]</td>\n",
       "      <td>Positivo</td>\n",
       "      <td>{'🎸', '❤️', '🙏', '🎼', '☘️'}</td>\n",
       "    </tr>\n",
       "    <tr>\n",
       "      <th>4</th>\n",
       "      <td>75443682</td>\n",
       "      <td>Hoje vou participar desse evento muito bacana,...</td>\n",
       "      <td>2020-10-18T19:46:16.000Z</td>\n",
       "      <td>75443682</td>\n",
       "      <td>-0.366308</td>\n",
       "      <td>2009-09-19</td>\n",
       "      <td>2020-12-27</td>\n",
       "      <td>2103</td>\n",
       "      <td>11786</td>\n",
       "      <td>314</td>\n",
       "      <td>Sao Paulo, Brazil</td>\n",
       "      <td>\\nSim | ['ambiente', 'áreas protegidas', 'defe...</td>\n",
       "      <td>Positivo</td>\n",
       "      <td>{'🎼', '🙏', '❤️'}</td>\n",
       "    </tr>\n",
       "  </tbody>\n",
       "</table>\n",
       "</div>"
      ],
      "text/plain": [
       "    user_id                                               text  \\\n",
       "0  75443682  Que tal uma Live surpresa hoje??\\nJá to prepar...   \n",
       "1  75443682  Até que ainda pego umas ondinhas 😜😜😜 https://t...   \n",
       "2  75443682  Acabou de publicar um vídeo https://t.co/yWTAo...   \n",
       "3  75443682  Obrigado pela parceria @hyperprostrings e @lut...   \n",
       "4  75443682  Hoje vou participar desse evento muito bacana,...   \n",
       "\n",
       "                 created_at        id  ideology_rate account_creation_date  \\\n",
       "0  2020-10-30T21:36:47.000Z  75443682      -0.366308            2009-09-19   \n",
       "1  2020-10-28T14:49:02.000Z  75443682      -0.366308            2009-09-19   \n",
       "2  2020-10-28T00:06:32.000Z  75443682      -0.366308            2009-09-19   \n",
       "3  2020-10-21T20:46:13.000Z  75443682      -0.366308            2009-09-19   \n",
       "4  2020-10-18T19:46:16.000Z  75443682      -0.366308            2009-09-19   \n",
       "\n",
       "  last_tweet_date  tweets_count  followers_count  following_count  \\\n",
       "0      2020-12-27          2103            11786              314   \n",
       "1      2020-12-27          2103            11786              314   \n",
       "2      2020-12-27          2103            11786              314   \n",
       "3      2020-12-27          2103            11786              314   \n",
       "4      2020-12-27          2103            11786              314   \n",
       "\n",
       "            location                                       culture_wars  \\\n",
       "0  Sao Paulo, Brazil                             \\nNão | [musica, live]   \n",
       "1  Sao Paulo, Brazil                                       Não | [surf]   \n",
       "2  Sao Paulo, Brazil                                       Não | [link]   \n",
       "3  Sao Paulo, Brazil                                     \\nNão | [link]   \n",
       "4  Sao Paulo, Brazil  \\nSim | ['ambiente', 'áreas protegidas', 'defe...   \n",
       "\n",
       "  sentiment_analysis                       emojis  \n",
       "0          Positivo.        {'🕺', '🎼', '😉', '❤️'}  \n",
       "1           Positivo                        {'😜'}  \n",
       "2            Não sei                        set()  \n",
       "3           Positivo  {'🎸', '❤️', '🙏', '🎼', '☘️'}  \n",
       "4           Positivo             {'🎼', '🙏', '❤️'}  "
      ]
     },
     "execution_count": 25,
     "metadata": {},
     "output_type": "execute_result"
    }
   ],
   "source": [
    "# Agrupamento das informações\n",
    "\n",
    "df_clas = pd.read_csv('first_batch_classificacao_culture_wars.csv').drop(columns=['Unnamed: 0'])\n",
    "df_sent = pd.read_csv('df_sentiment.csv').drop(columns=['Unnamed: 0'])\n",
    "df_emojis = pd.read_csv('df_emoji.csv').drop(columns=['Unnamed: 0'])\n",
    "\n",
    "common_columns = ['user_id', 'text', 'created_at', 'id', 'ideology_rate',\n",
    "                  'account_creation_date', 'last_tweet_date', 'tweets_count',\n",
    "                  'followers_count', 'following_count', 'location']\n",
    "\n",
    "df = df_clas.merge(df_sent,\n",
    "                   how='inner',\n",
    "                   on=common_columns)\n",
    "\n",
    "df = df.merge(df_emojis,\n",
    "              how='inner',\n",
    "              on=common_columns)\n",
    "\n",
    "df.head()"
   ]
  },
  {
   "cell_type": "markdown",
   "id": "523e9948",
   "metadata": {},
   "source": [
    "#### ideias vindas do form"
   ]
  },
  {
   "cell_type": "markdown",
   "id": "0ccdeb44",
   "metadata": {},
   "source": [
    "##### Identidades"
   ]
  },
  {
   "cell_type": "code",
   "execution_count": null,
   "id": "46c4aa71",
   "metadata": {},
   "outputs": [],
   "source": [
    "# 1. Identidade: feminista/antifeminista, \n",
    "#                progressista/conservador, \n",
    "#                lulista/bolsonarista"
   ]
  },
  {
   "cell_type": "code",
   "execution_count": null,
   "id": "b4835165",
   "metadata": {},
   "outputs": [],
   "source": [
    "# 2. Localizacao Ideologica: Esquerda/Centro/Direita/Nada disso"
   ]
  },
  {
   "cell_type": "markdown",
   "id": "cca89b39",
   "metadata": {},
   "source": [
    "##### Opinioes"
   ]
  },
  {
   "cell_type": "code",
   "execution_count": null,
   "id": "adea3023",
   "metadata": {
    "code_folding": []
   },
   "outputs": [],
   "source": [
    "# 3. Salario homens/mulheres\n",
    "# 4. Contraceptivos\n",
    "# 5. Aborto\n",
    "# 6. \"Lugar de mulher\"\n",
    "# 7. Homossexualidade\n",
    "# 8. Transexualidade\n",
    "# 9. Comportamento no espaco publico\n",
    "# 10. Sexualidade\n",
    "# 11. Cantada\n",
    "# 12. Divorcio"
   ]
  },
  {
   "cell_type": "markdown",
   "id": "cbe4f3a6",
   "metadata": {},
   "source": [
    "##### Tolerancia/Sentimentos"
   ]
  },
  {
   "cell_type": "code",
   "execution_count": null,
   "id": "67234572",
   "metadata": {},
   "outputs": [],
   "source": [
    "# 13. Sentimento em relacao a:\n",
    "#     a. Feministas\n",
    "#     b. Antifeministas\n",
    "#     c. Progressistas\n",
    "#     d. Conservadores\n",
    "#     e. Lulistas/PTistas\n",
    "#     f. Bolsonaristas/Fascistas"
   ]
  },
  {
   "cell_type": "markdown",
   "id": "55b8a013",
   "metadata": {},
   "source": [
    "##### \"Demografia\" XXXX"
   ]
  },
  {
   "cell_type": "code",
   "execution_count": null,
   "id": "5f0ed22a",
   "metadata": {},
   "outputs": [],
   "source": [
    "# - Genero\n",
    "# - Cor\n",
    "# - Religiao\n",
    "# - Idade\n",
    "# - Escolaridade\n",
    "# - Renda"
   ]
  },
  {
   "cell_type": "code",
   "execution_count": null,
   "id": "f8507c79",
   "metadata": {},
   "outputs": [],
   "source": []
  },
  {
   "cell_type": "code",
   "execution_count": null,
   "id": "09c820df",
   "metadata": {},
   "outputs": [],
   "source": []
  },
  {
   "cell_type": "code",
   "execution_count": null,
   "id": "742acf08",
   "metadata": {},
   "outputs": [],
   "source": []
  }
 ],
 "metadata": {
  "kernelspec": {
   "display_name": "Python 3 (ipykernel)",
   "language": "python",
   "name": "python3"
  },
  "language_info": {
   "codemirror_mode": {
    "name": "ipython",
    "version": 3
   },
   "file_extension": ".py",
   "mimetype": "text/x-python",
   "name": "python",
   "nbconvert_exporter": "python",
   "pygments_lexer": "ipython3",
   "version": "3.11.5"
  },
  "toc": {
   "base_numbering": 1,
   "nav_menu": {},
   "number_sections": true,
   "sideBar": true,
   "skip_h1_title": false,
   "title_cell": "Table of Contents",
   "title_sidebar": "Contents",
   "toc_cell": false,
   "toc_position": {},
   "toc_section_display": true,
   "toc_window_display": false
  },
  "varInspector": {
   "cols": {
    "lenName": 16,
    "lenType": 16,
    "lenVar": 40
   },
   "kernels_config": {
    "python": {
     "delete_cmd_postfix": "",
     "delete_cmd_prefix": "del ",
     "library": "var_list.py",
     "varRefreshCmd": "print(var_dic_list())"
    },
    "r": {
     "delete_cmd_postfix": ") ",
     "delete_cmd_prefix": "rm(",
     "library": "var_list.r",
     "varRefreshCmd": "cat(var_dic_list()) "
    }
   },
   "types_to_exclude": [
    "module",
    "function",
    "builtin_function_or_method",
    "instance",
    "_Feature"
   ],
   "window_display": false
  }
 },
 "nbformat": 4,
 "nbformat_minor": 5
}
