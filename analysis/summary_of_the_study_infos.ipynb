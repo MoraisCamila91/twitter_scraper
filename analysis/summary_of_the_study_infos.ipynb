{
 "cells": [
  {
   "cell_type": "code",
   "execution_count": 32,
   "metadata": {},
   "outputs": [],
   "source": [
    "import pandas as pd\n",
    "\n",
    "\n",
    "tweets_all = pd.read_csv('user_tweets.csv')\n",
    "tweets_all = tweets_all.drop_duplicates().dropna()\n",
    "\n",
    "tweets_fail = pd.read_csv('user_tweets_fail.csv')\n",
    "tweets_fail = tweets_fail.drop_duplicates().dropna(subset='text').drop(columns=['pagination_token'])\n",
    "\n",
    "tweets_elite = pd.read_csv('user_tweets_elite.csv').drop(columns=['author_id'])\n",
    "tweets_elite.columns = ['user_id', 'text', 'created_at', 'id', 'author_id']\n",
    "tweets_elite = tweets_elite.drop_duplicates().dropna()\n",
    "\n",
    "tweets_elite_fail = pd.read_csv('user_tweets_fail_elite.csv').drop(columns=['author_id'])\n",
    "tweets_elite_fail.columns = ['user_id', 'pagination_token', 'text', 'created_at', 'id', 'author_id']\n",
    "tweets_elite_fail = tweets_elite_fail.drop_duplicates().dropna(subset='text').drop(columns=['pagination_token'])"
   ]
  },
  {
   "cell_type": "code",
   "execution_count": 73,
   "metadata": {},
   "outputs": [
    {
     "name": "stdout",
     "output_type": "stream",
     "text": [
      "92794\n",
      "84169\n",
      "92794\n",
      "1449\n"
     ]
    }
   ],
   "source": [
    "all_tweets = pd.concat([tweets_all[['user_id', 'text']].dropna(), tweets_elite[['user_id', 'text']].dropna(), \n",
    "                        tweets_fail[['user_id', 'text']].dropna(), tweets_elite_fail[['user_id', 'text']].dropna()])\n",
    "all_tweets_users = pd.concat([tweets_all[['user_id']].dropna(), tweets_elite[['user_id']].dropna(), \n",
    "                              tweets_fail[['user_id']].dropna(), tweets_elite_fail[['user_id']].dropna()])\n",
    "\n",
    "print(len(all_tweets))\n",
    "print(len(all_tweets.drop_duplicates()))\n",
    "\n",
    "print(len(all_tweets_users))\n",
    "print(len(all_tweets_users.drop_duplicates()))"
   ]
  },
  {
   "cell_type": "code",
   "execution_count": 53,
   "metadata": {},
   "outputs": [
    {
     "data": {
      "text/plain": [
       "172"
      ]
     },
     "execution_count": 53,
     "metadata": {},
     "output_type": "execute_result"
    }
   ],
   "source": [
    "influencers_info = pd.read_csv('influencers_all_infos.csv')\n",
    "influencers_ids = [int(i) for i in influencers_info.id.dropna().to_list() if i != 0]\n",
    "\n",
    "len(influencers_ids)"
   ]
  },
  {
   "cell_type": "code",
   "execution_count": 40,
   "metadata": {},
   "outputs": [
    {
     "data": {
      "text/plain": [
       "10000"
      ]
     },
     "execution_count": 40,
     "metadata": {},
     "output_type": "execute_result"
    }
   ],
   "source": [
    "elite_info = pd.read_csv('all_infos_elite.csv')\n",
    "elite_ids = elite_info.id.to_list()\n",
    "\n",
    "len(elite_ids)"
   ]
  },
  {
   "cell_type": "code",
   "execution_count": 68,
   "metadata": {},
   "outputs": [
    {
     "name": "stdout",
     "output_type": "stream",
     "text": [
      "influencers capturados:  36\n",
      "influencers capturados:  678\n"
     ]
    }
   ],
   "source": [
    "users_scraped = all_tweets_users.user_id.drop_duplicates().to_list()\n",
    "\n",
    "print('influencers capturados: ', len([i for i in users_scraped if i in influencers_ids]))\n",
    "print('influencers capturados: ', len([i for i in users_scraped if i in elite_ids]))"
   ]
  },
  {
   "cell_type": "code",
   "execution_count": 79,
   "metadata": {},
   "outputs": [
    {
     "name": "stdout",
     "output_type": "stream",
     "text": [
      "tweets de influencers:  7909\n",
      "tweets de usuários:  49853\n"
     ]
    }
   ],
   "source": [
    "print('tweets de influencers: ', len(all_tweets[all_tweets.user_id.isin(influencers_ids)].drop_duplicates(subset='text')))\n",
    "print('tweets de usuários: ', len(all_tweets[all_tweets.user_id.isin(elite_ids)].drop_duplicates(subset='text')))"
   ]
  }
 ],
 "metadata": {
  "kernelspec": {
   "display_name": "myenv",
   "language": "python",
   "name": "python3"
  },
  "language_info": {
   "codemirror_mode": {
    "name": "ipython",
    "version": 3
   },
   "file_extension": ".py",
   "mimetype": "text/x-python",
   "name": "python",
   "nbconvert_exporter": "python",
   "pygments_lexer": "ipython3",
   "version": "3.11.5"
  }
 },
 "nbformat": 4,
 "nbformat_minor": 2
}
